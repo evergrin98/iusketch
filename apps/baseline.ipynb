{
 "cells": [
  {
   "attachments": {},
   "cell_type": "markdown",
   "metadata": {},
   "source": [
    "### IU Sketch Baseline 코드  \n",
    " - python모듈 설치 코드는 처음 한번 실행해주세요.     \n"
   ]
  },
  {
   "cell_type": "code",
   "execution_count": null,
   "metadata": {},
   "outputs": [],
   "source": [
    "# !pip install imageio\n",
    "# !pip install imageio --upgrade\n",
    "# !pip install einops"
   ]
  },
  {
   "cell_type": "code",
   "execution_count": null,
   "metadata": {},
   "outputs": [],
   "source": [
    "# 모듈 path 설정.\n",
    "import os,sys\n",
    "sys.path.insert(1, os.path.join(os.getcwd()  , '..'))"
   ]
  },
  {
   "attachments": {},
   "cell_type": "markdown",
   "metadata": {},
   "source": [
    "베이스 라인 코드.  "
   ]
  },
  {
   "cell_type": "code",
   "execution_count": null,
   "metadata": {},
   "outputs": [],
   "source": [
    "import os, glob, random\n",
    "import numpy as np\n",
    "import matplotlib.pyplot as plt\n",
    "\n",
    "import tensorflow.keras as keras\n",
    "from tensorflow.keras import layers\n",
    "from tensorflow.keras.models import Model\n",
    "from tensorflow.keras.utils import plot_model\n",
    "\n",
    "import config_env as cfg\n",
    "\n",
    "from classes.image_frame import ImgFrame\n",
    "from models.dataset_generator import DataSetGenerator\n",
    "from models.layer_conv import Conv2Plus1D, TConv2Plus1D\n",
    "from models.layer_encoder import Encoder5D, Decoder5D\n",
    "from models.layer_lstm import ConvLstmSeries"
   ]
  },
  {
   "cell_type": "code",
   "execution_count": null,
   "metadata": {},
   "outputs": [],
   "source": [
    "# 필요한 디렉토리 없으면 생성.\n",
    "\n",
    "# 학습용 raw_clip(gif) 파일 위치.\n",
    "if not os.path.exists(cfg.RAW_CLIP_PATH):\n",
    "    os.mkdir(cfg.RAW_CLIP_PATH)\n",
    "\n",
    "# 모델 저장 위치\n",
    "if not os.path.exists(cfg.MODEL_SAVE_PATH):\n",
    "    os.mkdir(cfg.MODEL_SAVE_PATH)\n",
    "\n",
    "# 임시 데이터 저장 위치\n",
    "if not os.path.exists(cfg.TEMP_DATA_PATH):\n",
    "    os.mkdir(cfg.TEMP_DATA_PATH)"
   ]
  },
  {
   "cell_type": "code",
   "execution_count": null,
   "metadata": {},
   "outputs": [],
   "source": [
    "img_w, img_h = cfg.DATA_IMG_W, cfg.DATA_IMG_H\n",
    "batch_size = cfg.DATA_BATCH_SIZE\n",
    "time_steps = cfg.DATA_TIME_STEP\n",
    "\n",
    "# encoder-decoder 모델 사용시\n",
    "is_autoenc_model = True\n",
    "train_val_ratio = 0.9\n",
    "\n",
    "img_list = glob.glob(os.path.join(cfg.RAW_CLIP_PATH, \"*.gif\"))\n",
    "train_img_cnt = int(len(img_list) * train_val_ratio)\n",
    "\n",
    "random.shuffle(img_list)\n",
    "train_img_list = img_list[:train_img_cnt]\n",
    "val_img_list = img_list[train_img_cnt:]\n",
    "\n",
    "tdgen = DataSetGenerator(imgs=train_img_list, batch_size=batch_size, time_step=time_steps, imgw=img_w, imgh=img_h, is_train=False, for_enc=is_autoenc_model)\n",
    "vdgen = DataSetGenerator(imgs=val_img_list, batch_size=batch_size, time_step=time_steps, imgw=img_w, imgh=img_h, is_train=False, for_enc=is_autoenc_model)\n",
    "\n",
    "enc_filter_count = 128\n",
    "enc_conv_count = 3\n",
    "lstm_out_filter_count = enc_filter_count*2**(enc_conv_count-1)\n",
    "lstm_filter_count = 64\n",
    "\n",
    "encoder = Encoder5D(enc_conv_count, enc_filter_count, (1, 3, 3), 2, \"same\")\n",
    "decoder = Decoder5D(enc_conv_count, enc_filter_count, 1, (1, 3, 3), 2, \"same\")\n",
    "lstms = ConvLstmSeries(lstm_filter_count, lstm_out_filter_count, [(3, 3), (3, 3), (3, 3)])\n",
    "\n",
    "inputs = layers.Input(shape=(None, img_w, img_h, 1))\n",
    "x = encoder(inputs)\n",
    "if not is_autoenc_model:\n",
    "    x = lstms(x)\n",
    "x = decoder(x)\n",
    "outputs = x\n",
    "\n",
    "model = Model(inputs=inputs, outputs=outputs, name='sketcher')\n",
    "model.compile(optimizer = keras.optimizers.Adam(1e-4), loss = 'binary_crossentropy')\n",
    "model.summary()\n",
    "\n",
    "plot_model(model, show_shapes=True, expand_nested=True, show_dtype=False)\n"
   ]
  },
  {
   "cell_type": "code",
   "execution_count": null,
   "metadata": {},
   "outputs": [],
   "source": [
    "epoch_cnt = 100\n",
    "steps_per_epoch = 50\n",
    "val_steps = 2\n",
    "\n",
    "history = model.fit(\n",
    "            tdgen,\n",
    "            validation_data = vdgen,\n",
    "            steps_per_epoch = steps_per_epoch,\n",
    "            validation_steps = val_steps,\n",
    "            epochs = epoch_cnt,\n",
    "            batch_size = batch_size,\n",
    "            verbose = 1,\n",
    "        )"
   ]
  },
  {
   "cell_type": "code",
   "execution_count": null,
   "metadata": {},
   "outputs": [],
   "source": [
    "plt.plot(history.history['loss'], label='train')\n",
    "plt.plot(history.history['val_loss'], label='val')\n",
    "plt.legend()\n",
    "plt.show()"
   ]
  },
  {
   "cell_type": "code",
   "execution_count": null,
   "metadata": {},
   "outputs": [],
   "source": [
    "encoder.seq.save(os.path.join(cfg.MODEL_SAVE_PATH, \"enc_seq\"))\n",
    "decoder.seq.save(os.path.join(cfg.MODEL_SAVE_PATH, \"dec_seq\"))\n",
    "\n",
    "if not is_autoenc_model:\n",
    "    lstms.seq.save(os.path.join(cfg.MODEL_SAVE_PATH, \"pred_seq\"))"
   ]
  },
  {
   "cell_type": "code",
   "execution_count": null,
   "metadata": {},
   "outputs": [],
   "source": [
    "# dataset중 하나만 예측에 입력\n",
    "it = iter(tdgen)\n",
    "x, y = next(it)\n",
    "in_x = x[:1, :, :, :, :]\n",
    "print(x.shape, y.shape, in_x.shape)\n",
    "\n",
    "in_frm = ImgFrame(img=in_x[0][-1][:, :, :], do_norm=False)\n",
    "in_img = in_frm.to_image()\n",
    "plt.imshow(in_img, cmap='gray')"
   ]
  },
  {
   "cell_type": "code",
   "execution_count": null,
   "metadata": {},
   "outputs": [],
   "source": [
    "pred = model.predict(in_x)\n",
    "print(pred.shape)\n",
    "\n",
    "frm = ImgFrame(img=pred[0][-1][:, :, :], do_norm=False)\n",
    "img = frm.to_image()\n",
    "# img.show()\n",
    "plt.imshow(img, cmap='gray')"
   ]
  }
 ],
 "metadata": {
  "kernelspec": {
   "display_name": "Python 3 (ipykernel)",
   "language": "python",
   "name": "python3"
  },
  "language_info": {
   "codemirror_mode": {
    "name": "ipython",
    "version": 3
   },
   "file_extension": ".py",
   "mimetype": "text/x-python",
   "name": "python",
   "nbconvert_exporter": "python",
   "pygments_lexer": "ipython3",
   "version": "3.9.13"
  },
  "vscode": {
   "interpreter": {
    "hash": "e6debceb626036820d184549e25d059a55b6b8771e25bc8133db281d329c34fc"
   }
  }
 },
 "nbformat": 4,
 "nbformat_minor": 2
}
