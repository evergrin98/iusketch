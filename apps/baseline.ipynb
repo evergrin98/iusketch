{
 "cells": [
  {
   "cell_type": "markdown",
   "metadata": {},
   "source": [
    "### IU Sketch Baseline 코드  \n",
    " - python모듈 설치 코드는 처음 한번 실행해주세요.     \n"
   ]
  },
  {
   "cell_type": "code",
   "execution_count": 25,
   "metadata": {},
   "outputs": [],
   "source": [
    "# !pip install imageio\n",
    "# !pip install imageio --upgrade\n",
    "# !pip install einops"
   ]
  },
  {
   "cell_type": "code",
   "execution_count": 26,
   "metadata": {},
   "outputs": [],
   "source": [
    "# 모듈 path 설정.\n",
    "import os,sys\n",
    "sys.path.insert(1, os.path.join(os.getcwd()  , '..'))"
   ]
  },
  {
   "cell_type": "markdown",
   "metadata": {},
   "source": [
    "베이스 라인 코드.  "
   ]
  },
  {
   "cell_type": "code",
   "execution_count": 27,
   "metadata": {},
   "outputs": [],
   "source": [
    "import os, glob, random\n",
    "import numpy as np\n",
    "import matplotlib.pyplot as plt\n",
    "\n",
    "import tensorflow.keras as keras\n",
    "from tensorflow.keras import layers\n",
    "from tensorflow.keras.models import Model\n",
    "from tensorflow.keras.utils import plot_model\n",
    "from tensorflow.keras.layers import ThresholdedReLU\n",
    "\n",
    "\n",
    "import config_env as cfg\n",
    "\n",
    "from classes.image_frame import ImgFrame\n",
    "from classes.video_clip import VideoClip\n",
    "from models.dataset_generator import DataSetGenerator\n",
    "# from models.layer_conv import Conv2Plus1D, TConv2Plus1D\n",
    "# from models.layer_encoder import Encoder5D, Decoder5D\n",
    "# from models.layer_lstm import ConvLstmSeries"
   ]
  },
  {
   "cell_type": "code",
   "execution_count": 28,
   "metadata": {},
   "outputs": [],
   "source": [
    "# 필요한 디렉토리 없으면 생성.\n",
    "\n",
    "# 학습용 raw_clip(gif) 파일 위치.\n",
    "if not os.path.exists(cfg.RAW_CLIP_PATH):\n",
    "    os.mkdir(cfg.RAW_CLIP_PATH)\n",
    "\n",
    "# 모델 저장 위치\n",
    "if not os.path.exists(cfg.MODEL_SAVE_PATH):\n",
    "    os.mkdir(cfg.MODEL_SAVE_PATH)\n",
    "\n",
    "# 임시 데이터 저장 위치\n",
    "if not os.path.exists(cfg.TEMP_DATA_PATH):\n",
    "    os.mkdir(cfg.TEMP_DATA_PATH)"
   ]
  },
  {
   "cell_type": "code",
   "execution_count": 29,
   "metadata": {},
   "outputs": [],
   "source": [
    "class Conv2Plus1D(keras.Model):\n",
    "    '''\n",
    "        5-rank Spatial Convolution\n",
    "    '''\n",
    "    def __init__(self, filters, kernel_size, stride, padding):\n",
    "        \"\"\"\n",
    "            (b, t, h, w, c) -> (b, t, h/stride, w/stride, f)\n",
    "            A sequence of convolutional layers that first apply the convolution operation over the\n",
    "            spatial dimensions, and then the temporal dimension. \n",
    "        \"\"\"\n",
    "        super(Conv2Plus1D, self).__init__()\n",
    "\n",
    "        # Spatial decomposition\n",
    "        self.conv1 = layers.Conv3D(filters=filters,\n",
    "                    kernel_size=(1, kernel_size[1], kernel_size[2]),\n",
    "                    strides=(1, stride, stride),\n",
    "                    padding=padding)\n",
    "\n",
    "        # Temporal decomposition\n",
    "        self.conv2 = layers.Conv3D(filters=filters,\n",
    "                        kernel_size=(kernel_size[0], 1, 1),\n",
    "                        strides=1,\n",
    "                        padding=padding)\n",
    "\n",
    "        self.bn = layers.BatchNormalization()\n",
    "        self.relu = layers.ReLU()\n",
    "\n",
    "    def call(self, x):\n",
    "        x = self.conv1(x)\n",
    "        # x = self.conv2(x)\n",
    "        # x = self.bn(x)\n",
    "        # x = self.relu(x)\n",
    "        return x\n",
    "\n",
    "\n",
    "class TConv2Plus1D(keras.Model):\n",
    "    '''\n",
    "        5-rank Spatial TransposeConvolution\n",
    "    '''\n",
    "    def __init__(self, filters, kernel_size, stride, padding):\n",
    "        \"\"\"\n",
    "            (b, t, h, w, c) -> (b, t, h*stride, w*stride, f)\n",
    "            A sequence of convolutional layers that first apply the convolution operation over the\n",
    "            spatial dimensions, and then the temporal dimension. \n",
    "        \"\"\"\n",
    "        super(TConv2Plus1D, self).__init__()\n",
    "\n",
    "        # Spatial decomposition\n",
    "        self.tconv1 = layers.Conv3DTranspose(filters=filters,\n",
    "                    kernel_size=(1, kernel_size[1], kernel_size[2]),\n",
    "                    strides=(1, stride, stride),\n",
    "                    padding=padding)\n",
    "\n",
    "        # Temporal decomposition\n",
    "        self.tconv2 = layers.Conv3DTranspose(filters=filters, \n",
    "                    kernel_size=(kernel_size[0], 1, 1),\n",
    "                    strides=1,\n",
    "                    padding=padding)\n",
    "\n",
    "        self.bn = layers.BatchNormalization()\n",
    "        self.relu = layers.ReLU()\n",
    "\n",
    "    def call(self, x):\n",
    "        x = self.tconv1(x)\n",
    "        # x = self.tconv2(x)\n",
    "        # x = self.bn(x)\n",
    "        # x = self.relu(x)\n",
    "        return x\n"
   ]
  },
  {
   "cell_type": "code",
   "execution_count": 30,
   "metadata": {},
   "outputs": [],
   "source": [
    "\n",
    "class Encoder5D(keras.Model):\n",
    "    '''\n",
    "        5-rank Encoder\n",
    "    '''\n",
    "    def __init__(self, kernel_count, filters, kernel_size, stride, padding, out_channel=None):\n",
    "        \"\"\"\n",
    "            conv : (b, t, h, w, c) -> (b, t, h/stride, w/stride, f)\n",
    "            kernel_count만큼 반복.\n",
    "        \"\"\"\n",
    "        super(Encoder5D, self).__init__()\n",
    "        self.kernel_count = kernel_count\n",
    "        self.out_channel = out_channel\n",
    "        self.convs = []\n",
    "        self.bns = []\n",
    "        self.relus = []\n",
    "        \n",
    "        for cnt in range(kernel_count):\n",
    "            if stride == 1:\n",
    "                filter_cnt = filters // (2**cnt)\n",
    "            else:\n",
    "                filter_cnt = filters*2**cnt\n",
    "            self.convs.append(Conv2Plus1D(filter_cnt, kernel_size, stride, padding))\n",
    "            self.bns.append(layers.BatchNormalization())\n",
    "            self.relus.append(layers.ReLU())\n",
    "\n",
    "        if out_channel is not None:\n",
    "            self.out_conv = Conv2Plus1D(out_channel, kernel_size, 1, padding=\"same\")\n",
    "            self.out_bn = layers.BatchNormalization()\n",
    "            self.out_relu = layers.ReLU()\n",
    "\n",
    "\n",
    "    def call(self, x):\n",
    "        for idx in range(self.kernel_count):\n",
    "            x = self.convs[idx](x)\n",
    "            x = self.bns[idx](x)\n",
    "            x = self.relus[idx](x)\n",
    "            \n",
    "        if self.out_channel is not None:\n",
    "            x = self.out_conv(x)\n",
    "            x = self.out_bn(x)\n",
    "            x = self.out_relu(x)\n",
    "\n",
    "        return x\n",
    "    \n",
    "class Decoder5D(keras.Model):\n",
    "    '''\n",
    "        5-rank Decoder\n",
    "    '''\n",
    "    def __init__(self, kernel_count, filters, kernel_size, stride, padding, out_channel=None):\n",
    "        \"\"\"\n",
    "            (b, t, h, w, c) -> (b, t, h*stride, w*stride, f)\n",
    "            kernel_count만큼 반복.\n",
    "        \"\"\"\n",
    "        super(Decoder5D, self).__init__()\n",
    "        self.kernel_count = kernel_count\n",
    "        self.out_channel = out_channel\n",
    "        self.convs = []\n",
    "        self.bns = []\n",
    "        self.relus = []\n",
    "\n",
    "        for cnt in range(0, kernel_count):\n",
    "            self.convs.append(TConv2Plus1D(filters // (2**cnt), kernel_size, stride, padding))\n",
    "            self.bns.append(layers.BatchNormalization())\n",
    "            self.relus.append(layers.ReLU())\n",
    "\n",
    "        if out_channel is not None:\n",
    "            self.out_conv = Conv2Plus1D(out_channel, kernel_size, 1, padding=\"same\")\n",
    "            self.out_bn = layers.BatchNormalization()\n",
    "            self.out_relu = layers.ReLU()\n",
    "\n",
    "    def call(self, x):\n",
    "        for idx in range(self.kernel_count):\n",
    "            x = self.convs[idx](x)\n",
    "            x = self.bns[idx](x)\n",
    "            x = self.relus[idx](x)\n",
    "            \n",
    "        if self.out_channel is not None:\n",
    "            x = self.out_conv(x)\n",
    "            x = self.out_bn(x)\n",
    "            x = self.out_relu(x)\n",
    "\n",
    "        return x\n",
    "    "
   ]
  },
  {
   "cell_type": "code",
   "execution_count": 31,
   "metadata": {},
   "outputs": [],
   "source": [
    "class ConvLstmSeries(keras.Model):\n",
    "    '''\n",
    "        5-rank Colvolution LSTM\n",
    "    '''\n",
    "    def __init__(self, filter_cnt, final_filter_cnt, kernel_sizes):\n",
    "        \"\"\"\n",
    "            (b, t, h, w, c) -> (b, t, h/stride, w/stride, f)\n",
    "            A sequence of convolutional layers that first apply the convolution operation over the\n",
    "            spatial dimensions, and then the temporal dimension.\n",
    "        \"\"\"\n",
    "        super(ConvLstmSeries, self).__init__()\n",
    "        self.filter_cnt = filter_cnt\n",
    "        self.final_filter_cnt = final_filter_cnt\n",
    "        self.kernel_cnt = len(kernel_sizes)\n",
    "        self.lstms = []\n",
    "        self.bns = []\n",
    "        self.relus = []\n",
    "        self.out_conv = None\n",
    "\n",
    "        for kernel_size in kernel_sizes:\n",
    "            self.lstms.append(layers.ConvLSTM2D(\n",
    "                                filters=filter_cnt,\n",
    "                                kernel_size=kernel_size,\n",
    "                                padding=\"same\",\n",
    "                                return_sequences=True,\n",
    "                                activation=\"relu\",\n",
    "                            ))\n",
    "            self.bns.append(layers.BatchNormalization())\n",
    "            self.relus.append(layers.ReLU())\n",
    "\n",
    "        # 출력의 channel depth를 맞춰주기 위해.\n",
    "        if final_filter_cnt > 0:\n",
    "            self.out_conv = Conv2Plus1D(final_filter_cnt, (1, 3, 3), 1, \"same\")\n",
    "            self.out_bn = layers.BatchNormalization()\n",
    "            self.out_relu = layers.ReLU()\n",
    "\n",
    "    def call(self, x):\n",
    "        for idx in range(self.kernel_cnt):\n",
    "            x = self.lstms[idx](x)\n",
    "            x = self.bns[idx](x)\n",
    "            x = self.relus[idx](x)\n",
    "\n",
    "        if self.out_conv is not None:\n",
    "            x = self.out_conv(x)\n",
    "            x = self.out_bn(x)\n",
    "            x = self.out_relu(x)\n",
    "\n",
    "        return x\n",
    "    "
   ]
  },
  {
   "cell_type": "code",
   "execution_count": 32,
   "metadata": {},
   "outputs": [],
   "source": [
    "img_w, img_h = 32, 32 #cfg.DATA_IMG_W, cfg.DATA_IMG_H\n",
    "batch_size = 4 #cfg.DATA_BATCH_SIZE\n",
    "time_steps = cfg.DATA_TIME_STEP\n",
    "\n",
    "# encoder-decoder 모델 사용시\n",
    "is_lstm_model = False\n",
    "is_autoenc_model = False\n",
    "\n",
    "# dataset 설정.\n",
    "data_seq_type='all'  # 'all', 'arandom', 'aforward', 'forward', 'reverse', 'random'\n",
    "data_label_type='1step'   # 'all', 'same', '1step'\n",
    "\n",
    "# 전체 raw_clip 랜덤한 이미지 목록을 가져옴.\n",
    "img_list = glob.glob(os.path.join(cfg.RAW_CLIP_PATH, \"*.gif\"))\n",
    "random.shuffle(img_list)\n",
    "\n",
    "# 이미지 목록을 train/validation용으로 9:1로 나눔.\n",
    "train_val_ratio = 0.9\n",
    "train_img_cnt = int(len(img_list) * train_val_ratio)\n",
    "train_img_list = img_list[:train_img_cnt]\n",
    "val_img_list = img_list[train_img_cnt:]\n",
    "\n",
    "# train/validation용 generator를 생성.\n",
    "tdgen = DataSetGenerator(imgs=train_img_list, batch_size=batch_size, \n",
    "                         time_step=time_steps, imgw=img_w, imgh=img_h, \n",
    "                         seq_type=data_seq_type, label_type=data_label_type)\n",
    "\n",
    "vdgen = DataSetGenerator(imgs=val_img_list, batch_size=batch_size, \n",
    "                         time_step=time_steps, imgw=img_w, imgh=img_h, \n",
    "                         seq_type=data_seq_type, label_type=data_label_type)\n"
   ]
  },
  {
   "cell_type": "code",
   "execution_count": 34,
   "metadata": {},
   "outputs": [
    {
     "name": "stdout",
     "output_type": "stream",
     "text": [
      "Model: \"sketcher\"\n",
      "_________________________________________________________________\n",
      " Layer (type)                Output Shape              Param #   \n",
      "=================================================================\n",
      " input_6 (InputLayer)        [(None, None, 32, 32, 1)  0         \n",
      "                             ]                                   \n",
      "                                                                 \n",
      " encoder5d_9 (Encoder5D)     (None, None, 4, 4, 512)   1480192   \n",
      "                                                                 \n",
      " conv_lstm_series_2 (ConvLst  (None, None, 4, 4, 512)  56635392  \n",
      " mSeries)                                                        \n",
      "                                                                 \n",
      " decoder5d_3 (Decoder5D)     (None, None, 32, 32, 64)  1550528   \n",
      "                                                                 \n",
      " encoder5d_10 (Encoder5D)    (None, None, 32, 32, 8)   24472     \n",
      "                                                                 \n",
      " encoder5d_11 (Encoder5D)    (None, None, 32, 32, 1)   77        \n",
      "                                                                 \n",
      "=================================================================\n",
      "Total params: 59,690,661\n",
      "Trainable params: 59,684,787\n",
      "Non-trainable params: 5,874\n",
      "_________________________________________________________________\n"
     ]
    },
    {
     "data": {
      "image/png": "[encoded data removed]",
      "text/plain": [
       "<IPython.core.display.Image object>"
      ]
     },
     "execution_count": 34,
     "metadata": {},
     "output_type": "execute_result"
    }
   ],
   "source": [
    "# encoder - lstms - decoder - retina(0) 모델을 생성.\n",
    "enc_in_filters = 128\n",
    "enc_conv_count = 3\n",
    "lstm_count = 3\n",
    "dec_conv_count = 3\n",
    "retina_conv_count = 3\n",
    "\n",
    "enc_out_filters = enc_in_filters*2**(enc_conv_count-1)\n",
    "dec_in_filters = enc_out_filters // 2\n",
    "retina_in_filters = dec_in_filters // 2**(dec_conv_count)\n",
    "lstm_in_filters = enc_out_filters\n",
    "if is_lstm_model:\n",
    "    lstm_in_filters = 64\n",
    "    \n",
    "encoder = Encoder5D(enc_conv_count, enc_in_filters, (1, 3, 3), 2, \"same\")\n",
    "decoder = Decoder5D(dec_conv_count, dec_in_filters, (1, 3, 3), 2, \"same\")\n",
    "\n",
    "if is_lstm_model:\n",
    "    lstms = ConvLstmSeries(lstm_in_filters, 1, [(3, 3), (3, 3), (3, 3)])\n",
    "else:\n",
    "    lstms = ConvLstmSeries(enc_out_filters, 0, [(3, 3), (3, 3), (3, 3)])\n",
    "\n",
    "retina = Encoder5D(retina_conv_count, retina_in_filters, (1, 3, 3), 1, \"same\", out_channel=None)\n",
    "retina0 = Encoder5D(0, 0, (1, 3, 3), 1, \"same\", out_channel=1)\n",
    "# threshold_relu = ThresholdedReLU(theta=0.5)\n",
    "\n",
    "inputs = layers.Input(shape=(None, img_w, img_h, 1))\n",
    "\n",
    "if is_lstm_model:\n",
    "    x = lstms(inputs)\n",
    "    \n",
    "elif is_autoenc_model:\n",
    "    x = encoder(inputs)\n",
    "    x = decoder(x)\n",
    "    x = retina(x)\n",
    "    x = retina0(x)\n",
    "\n",
    "else:\n",
    "    x = encoder(inputs)\n",
    "    x = lstms(x)\n",
    "    x = decoder(x)\n",
    "    x = retina(x)\n",
    "    x = retina0(x)\n",
    "\n",
    "# x = threshold_relu(x)\n",
    "outputs = x\n",
    "\n",
    "model = Model(inputs=inputs, outputs=outputs, name='sketcher')\n",
    "model.compile(optimizer = keras.optimizers.Adam(1e-4), loss = 'binary_crossentropy')\n",
    "model.summary()\n",
    "\n",
    "plot_model(model, show_shapes=True, expand_nested=True, show_dtype=False)"
   ]
  },
  {
   "cell_type": "code",
   "execution_count": 39,
   "metadata": {},
   "outputs": [],
   "source": [
    "def save_all(prefix='base_200'):\n",
    "    # model.save(os.path.join(cfg.MODEL_SAVE_PATH, f\"sketcher_{prefix}\"))\n",
    "    encoder.save(os.path.join(cfg.MODEL_SAVE_PATH, f\"enc_{prefix}\"))\n",
    "    lstms.save(os.path.join(cfg.MODEL_SAVE_PATH, f\"lstm_{prefix}\"))\n",
    "    decoder.save(os.path.join(cfg.MODEL_SAVE_PATH, f\"dec_{prefix}\"))\n",
    "    retina.save(os.path.join(cfg.MODEL_SAVE_PATH, f\"retina_{prefix}\"))\n",
    "    retina0.save(os.path.join(cfg.MODEL_SAVE_PATH, f\"retina0_{prefix}\"))"
   ]
  },
  {
   "cell_type": "code",
   "execution_count": 40,
   "metadata": {},
   "outputs": [],
   "source": [
    "def load_all(prefix='base_200'):\n",
    "#     model = keras.models.load_model(os.path.join(cfg.MODEL_SAVE_PATH, f\"sketcher_{prefix}\"))\n",
    "    encoder = keras.models.load_model(os.path.join(cfg.MODEL_SAVE_PATH, f\"enc_{prefix}\"))\n",
    "    lstms = keras.models.load_model(os.path.join(cfg.MODEL_SAVE_PATH, f\"lstm_{prefix}\"))\n",
    "    decoder = keras.models.load_model(os.path.join(cfg.MODEL_SAVE_PATH, f\"dec_{prefix}\"))\n",
    "    retina = keras.models.load_model(os.path.join(cfg.MODEL_SAVE_PATH, f\"retina_{prefix}\"))\n",
    "    retina0 = keras.models.load_model(os.path.join(cfg.MODEL_SAVE_PATH, f\"retina0_{prefix}\"))"
   ]
  },
  {
   "cell_type": "code",
   "execution_count": 42,
   "metadata": {},
   "outputs": [
    {
     "name": "stdout",
     "output_type": "stream",
     "text": [
      "WARNING:tensorflow:No training configuration found in save file, so the model was *not* compiled. Compile it manually.\n"
     ]
    },
    {
     "name": "stderr",
     "output_type": "stream",
     "text": [
      "WARNING:tensorflow:No training configuration found in save file, so the model was *not* compiled. Compile it manually.\n"
     ]
    }
   ],
   "source": [
    "load_all(prefix='base_400')"
   ]
  },
  {
   "cell_type": "code",
   "execution_count": null,
   "metadata": {},
   "outputs": [],
   "source": [
    "# encoder.trainable = False\n",
    "# decoder.trainable = False\n",
    "# lstms.trainable = False\n",
    "# retina.trainable = False\n",
    "# retina0.trainable = False"
   ]
  },
  {
   "cell_type": "code",
   "execution_count": 37,
   "metadata": {},
   "outputs": [
    {
     "name": "stderr",
     "output_type": "stream",
     "text": [
      "/home/evergrin/anaconda3/envs/pyenv_3912/lib/python3.9/site-packages/albumentations/core/transforms_interface.py:113: UserWarning: CropAndPad could work incorrectly in ReplayMode for other input data because its' params depend on targets.\n",
      "  warn(\n",
      "/home/evergrin/anaconda3/envs/pyenv_3912/lib/python3.9/site-packages/albumentations/core/transforms_interface.py:113: UserWarning: SafeRotate could work incorrectly in ReplayMode for other input data because its' params depend on targets.\n",
      "  warn(\n"
     ]
    },
    {
     "name": "stdout",
     "output_type": "stream",
     "text": [
      "1/1 [==============================] - 31s 31s/step - loss: 10.4668 - val_loss: 14.6864\n"
     ]
    }
   ],
   "source": [
    "epoch_cnt = 1\n",
    "steps_per_epoch = 50\n",
    "val_steps = 2\n",
    "\n",
    "history = model.fit(\n",
    "            tdgen,\n",
    "            validation_data = vdgen,\n",
    "            steps_per_epoch = steps_per_epoch,\n",
    "            validation_steps = val_steps,\n",
    "            epochs = epoch_cnt,\n",
    "            batch_size = batch_size,\n",
    "            verbose = 1,\n",
    "        )"
   ]
  },
  {
   "cell_type": "code",
   "execution_count": null,
   "metadata": {},
   "outputs": [],
   "source": [
    "def plot_history(history):\n",
    "    plt.plot(history.history['loss'], label='train')\n",
    "    plt.plot(history.history['val_loss'], label='val')\n",
    "    plt.legend()\n",
    "    plt.show()"
   ]
  },
  {
   "cell_type": "code",
   "execution_count": 41,
   "metadata": {},
   "outputs": [
    {
     "name": "stdout",
     "output_type": "stream",
     "text": [
      "WARNING:tensorflow:Skipping full serialization of Keras layer <keras.layers.convolutional.conv3d.Conv3D object at 0x7fa789ff24c0>, because it is not built.\n",
      "WARNING:tensorflow:Skipping full serialization of Keras layer <keras.layers.normalization.batch_normalization.BatchNormalization object at 0x7fa789ff2e20>, because it is not built.\n",
      "WARNING:tensorflow:Skipping full serialization of Keras layer <keras.layers.activation.relu.ReLU object at 0x7fa789ff2f10>, because it is not built.\n",
      "WARNING:tensorflow:Skipping full serialization of Keras layer <keras.layers.convolutional.conv3d.Conv3D object at 0x7fa7081aed00>, because it is not built.\n",
      "WARNING:tensorflow:Skipping full serialization of Keras layer <keras.layers.normalization.batch_normalization.BatchNormalization object at 0x7fa7081aefd0>, because it is not built.\n",
      "WARNING:tensorflow:Skipping full serialization of Keras layer <keras.layers.activation.relu.ReLU object at 0x7fa7081adb50>, because it is not built.\n",
      "WARNING:tensorflow:Skipping full serialization of Keras layer <keras.layers.convolutional.conv3d.Conv3D object at 0x7fa7081af790>, because it is not built.\n",
      "WARNING:tensorflow:Skipping full serialization of Keras layer <keras.layers.normalization.batch_normalization.BatchNormalization object at 0x7fa7081afa60>, because it is not built.\n",
      "WARNING:tensorflow:Skipping full serialization of Keras layer <keras.layers.activation.relu.ReLU object at 0x7fa7081b06a0>, because it is not built.\n"
     ]
    },
    {
     "name": "stderr",
     "output_type": "stream",
     "text": [
      "WARNING:absl:Found untraced functions such as _jit_compiled_convolution_op, _jit_compiled_convolution_op, _jit_compiled_convolution_op, _jit_compiled_convolution_op, _jit_compiled_convolution_op while saving (showing 5 of 6). These functions will not be directly callable after loading.\n"
     ]
    },
    {
     "name": "stdout",
     "output_type": "stream",
     "text": [
      "INFO:tensorflow:Assets written to: /home/evergrin/iu/datas/models/enc_base_400/assets\n"
     ]
    },
    {
     "name": "stderr",
     "output_type": "stream",
     "text": [
      "INFO:tensorflow:Assets written to: /home/evergrin/iu/datas/models/enc_base_400/assets\n"
     ]
    }
   ],
   "source": [
    "save_all(prefix='base_400')"
   ]
  },
  {
   "cell_type": "code",
   "execution_count": null,
   "metadata": {},
   "outputs": [],
   "source": [
    "plot_history(history)"
   ]
  },
  {
   "cell_type": "code",
   "execution_count": null,
   "metadata": {},
   "outputs": [],
   "source": [
    "def arry5d_to_img(arry5d, save_as=''):\n",
    "    frmimg_cnt = arry5d.shape[1]\n",
    "    fig, axes = plt.subplots(nrows = 1, ncols = frmimg_cnt, figsize=(15, 3))\n",
    "\n",
    "    for idx, num in enumerate(range(0, frmimg_cnt)):\n",
    "        frm = ImgFrame(img=arry5d[0][idx][:, :, :], do_norm=False)\n",
    "        img = frm.to_image()\n",
    "        axes[idx].imshow(img, cmap='gray')\n",
    "\n",
    "    plt.show()"
   ]
  },
  {
   "cell_type": "code",
   "execution_count": null,
   "metadata": {},
   "outputs": [],
   "source": [
    "# dataset중 하나만 뽑아서 예측에 입력\n",
    "it = iter(vdgen)\n",
    "x, y = next(it)\n"
   ]
  },
  {
   "cell_type": "code",
   "execution_count": null,
   "metadata": {},
   "outputs": [],
   "source": [
    "# x 이미지 한개 표시\n",
    "arry5d_to_img(x)"
   ]
  },
  {
   "cell_type": "code",
   "execution_count": null,
   "metadata": {},
   "outputs": [],
   "source": [
    "# y 이미지 한개 표시.\n",
    "arry5d_to_img(y)"
   ]
  },
  {
   "cell_type": "code",
   "execution_count": null,
   "metadata": {
    "scrolled": false
   },
   "outputs": [],
   "source": [
    "# 예측하여 이미지 표시.\n",
    "in_x = x[:1, :, :, :, :]\n",
    "pred = model.predict(in_x)\n",
    "\n",
    "file_name = os.path.join(cfg.TEMP_DATA_PATH, 'result.gif')\n",
    "arry5d_to_img(pred, save_as=file_name)"
   ]
  },
  {
   "cell_type": "code",
   "execution_count": null,
   "metadata": {},
   "outputs": [],
   "source": [
    "# user가 그린 임의의 그림 예측.\n",
    "# user_file_name = os.path.join(cfg.TEMP_DATA_PATH, 'user_draw.gif')\n",
    "# user_draw = VideoClip(gif_path=user_file_name)\n",
    "# user_draw.resize(img_w, img_h, inplace=True)\n",
    "# arry5d = user_draw.to_array(expand=True)\n",
    "# print(arry5d.shape)\n",
    "# arry5d_to_img(arry5d)"
   ]
  },
  {
   "cell_type": "code",
   "execution_count": null,
   "metadata": {},
   "outputs": [],
   "source": [
    "# pred = model.predict(arry5d)\n",
    "\n",
    "# file_name = os.path.join(cfg.TEMP_DATA_PATH, 'result.gif')\n",
    "# arry5d_to_img(pred, save_as=file_name)"
   ]
  },
  {
   "cell_type": "code",
   "execution_count": null,
   "metadata": {},
   "outputs": [],
   "source": []
  }
 ],
 "metadata": {
  "kernelspec": {
   "display_name": "Python 3 (ipykernel)",
   "language": "python",
   "name": "python3"
  },
  "language_info": {
   "codemirror_mode": {
    "name": "ipython",
    "version": 3
   },
   "file_extension": ".py",
   "mimetype": "text/x-python",
   "name": "python",
   "nbconvert_exporter": "python",
   "pygments_lexer": "ipython3",
   "version": "3.9.13"
  },
  "vscode": {
   "interpreter": {
    "hash": "e6debceb626036820d184549e25d059a55b6b8771e25bc8133db281d329c34fc"
   }
  }
 },
 "nbformat": 4,
 "nbformat_minor": 2
}
